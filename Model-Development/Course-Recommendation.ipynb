{
 "cells": [
  {
   "cell_type": "markdown",
   "id": "4cc935a9-1955-4542-8ff6-6a28885125e3",
   "metadata": {},
   "source": [
    "1. Import Libraries"
   ]
  },
  {
   "cell_type": "code",
   "execution_count": 1,
   "id": "fcd1882a-0177-4a82-b4ad-4bc4500ec04e",
   "metadata": {},
   "outputs": [],
   "source": [
    "import pandas as pd\n",
    "from sklearn.model_selection import train_test_split\n",
    "from sklearn.preprocessing import LabelEncoder\n",
    "from sklearn.metrics import accuracy_score\n",
    "import joblib\n",
    "\n",
    "# ML Models\n",
    "from sklearn.linear_model import LogisticRegression\n",
    "from sklearn.ensemble import RandomForestClassifier\n",
    "from sklearn.svm import SVC\n",
    "from sklearn.neighbors import KNeighborsClassifier\n"
   ]
  },
  {
   "cell_type": "markdown",
   "id": "850d5f0d-b791-4653-9c57-880f815d7081",
   "metadata": {},
   "source": [
    "2. Load Dataset"
   ]
  },
  {
   "cell_type": "code",
   "execution_count": 2,
   "id": "4a7df18d-2a67-4f55-b908-4bb59108c76d",
   "metadata": {},
   "outputs": [
    {
     "data": {
      "text/html": [
       "<div>\n",
       "<style scoped>\n",
       "    .dataframe tbody tr th:only-of-type {\n",
       "        vertical-align: middle;\n",
       "    }\n",
       "\n",
       "    .dataframe tbody tr th {\n",
       "        vertical-align: top;\n",
       "    }\n",
       "\n",
       "    .dataframe thead th {\n",
       "        text-align: right;\n",
       "    }\n",
       "</style>\n",
       "<table border=\"1\" class=\"dataframe\">\n",
       "  <thead>\n",
       "    <tr style=\"text-align: right;\">\n",
       "      <th></th>\n",
       "      <th>Area of Interest</th>\n",
       "      <th>Career Goal</th>\n",
       "      <th>Preferred Learning Style</th>\n",
       "      <th>Recommended Courses</th>\n",
       "    </tr>\n",
       "  </thead>\n",
       "  <tbody>\n",
       "    <tr>\n",
       "      <th>0</th>\n",
       "      <td>Cybersecurity</td>\n",
       "      <td>AR/VR Development</td>\n",
       "      <td>Visual</td>\n",
       "      <td>Networking Basics, Encryption</td>\n",
       "    </tr>\n",
       "    <tr>\n",
       "      <th>1</th>\n",
       "      <td>E-Commerce Development</td>\n",
       "      <td>Data Engineering</td>\n",
       "      <td>Reading/Writing</td>\n",
       "      <td>Payment Gateway Integration</td>\n",
       "    </tr>\n",
       "    <tr>\n",
       "      <th>2</th>\n",
       "      <td>DevOps</td>\n",
       "      <td>Cybersecurity</td>\n",
       "      <td>Collaborative</td>\n",
       "      <td>CI/CD Basics, Docker, Kubernetes</td>\n",
       "    </tr>\n",
       "    <tr>\n",
       "      <th>3</th>\n",
       "      <td>DevOps</td>\n",
       "      <td>AR/VR Development</td>\n",
       "      <td>Reading/Writing</td>\n",
       "      <td>CI/CD Basics, Docker, Kubernetes</td>\n",
       "    </tr>\n",
       "    <tr>\n",
       "      <th>4</th>\n",
       "      <td>Computer Vision</td>\n",
       "      <td>E-Commerce Development</td>\n",
       "      <td>Reading/Writing</td>\n",
       "      <td>Image Processing, Object Detection</td>\n",
       "    </tr>\n",
       "  </tbody>\n",
       "</table>\n",
       "</div>"
      ],
      "text/plain": [
       "         Area of Interest             Career Goal Preferred Learning Style  \\\n",
       "0           Cybersecurity       AR/VR Development                   Visual   \n",
       "1  E-Commerce Development        Data Engineering          Reading/Writing   \n",
       "2                  DevOps           Cybersecurity            Collaborative   \n",
       "3                  DevOps       AR/VR Development          Reading/Writing   \n",
       "4         Computer Vision  E-Commerce Development          Reading/Writing   \n",
       "\n",
       "                  Recommended Courses  \n",
       "0       Networking Basics, Encryption  \n",
       "1         Payment Gateway Integration  \n",
       "2    CI/CD Basics, Docker, Kubernetes  \n",
       "3    CI/CD Basics, Docker, Kubernetes  \n",
       "4  Image Processing, Object Detection  "
      ]
     },
     "execution_count": 2,
     "metadata": {},
     "output_type": "execute_result"
    }
   ],
   "source": [
    "# Load the CSV dataset\n",
    "file_path = \"course_recommendation_dataset.csv\"  # Replace with your path if needed\n",
    "df = pd.read_csv(file_path)\n",
    "\n",
    "# Display the first few rows\n",
    "df.head()"
   ]
  },
  {
   "cell_type": "markdown",
   "id": "e6bdb150-0a84-454b-9f7a-348fb4989e0e",
   "metadata": {},
   "source": [
    "3. Data Preprocessing"
   ]
  },
  {
   "cell_type": "code",
   "execution_count": 3,
   "id": "9cb4e76d-023b-4b57-853e-9ed448d51754",
   "metadata": {},
   "outputs": [],
   "source": [
    "# Convert categorical data to numerical data\n",
    "label_encoder = LabelEncoder()\n",
    "\n",
    "# Encode the target (Recommended Courses)\n",
    "df['Recommended Courses Encoded'] = label_encoder.fit_transform(df['Recommended Courses'])\n",
    "\n",
    "# Prepare features (X) and target (y)\n",
    "X = df[['Area of Interest', 'Career Goal', 'Preferred Learning Style']]\n",
    "X = pd.get_dummies(X, columns=['Area of Interest', 'Career Goal', 'Preferred Learning Style'])  # One-hot encoding\n",
    "\n",
    "y = df['Recommended Courses Encoded']\n"
   ]
  },
  {
   "cell_type": "code",
   "execution_count": 4,
   "id": "3bd1ad43-7ba6-43de-9eac-09f4031f45c6",
   "metadata": {},
   "outputs": [
    {
     "name": "stdout",
     "output_type": "stream",
     "text": [
      "Unique Areas of Interest: ['Cybersecurity' 'E-Commerce Development' 'DevOps' 'Computer Vision'\n",
      " 'Cloud Computing' 'Quantum Computing' 'App Development'\n",
      " 'Data Engineering' 'Data Science' 'Artificial Intelligence'\n",
      " 'Big Data Analytics' 'Game Development' 'Natural Language Processing'\n",
      " 'Full-Stack Development' 'Machine Learning' 'IoT Development'\n",
      " 'Networking' 'Blockchain' 'UI/UX Design' 'Embedded Systems'\n",
      " 'AR/VR Development' 'Business Intelligence' 'Web Development'\n",
      " 'Software Testing' 'Digital Marketing']\n"
     ]
    }
   ],
   "source": [
    "unique_interests = df['Area of Interest'].unique()\n",
    "print(f\"Unique Areas of Interest: {unique_interests}\")"
   ]
  },
  {
   "cell_type": "code",
   "execution_count": 5,
   "id": "07386e5b-ea4a-426a-8857-f3ce81485532",
   "metadata": {},
   "outputs": [
    {
     "name": "stdout",
     "output_type": "stream",
     "text": [
      "Unique Career Goals: ['AR/VR Development' 'Data Engineering' 'Cybersecurity'\n",
      " 'E-Commerce Development' 'IoT Development' 'Big Data Analytics'\n",
      " 'Networking' 'Web Development' 'Digital Marketing' 'Blockchain'\n",
      " 'Software Testing' 'Embedded Systems' 'Artificial Intelligence'\n",
      " 'Game Development' 'Natural Language Processing' 'App Development'\n",
      " 'Business Intelligence' 'Machine Learning' 'UI/UX Design'\n",
      " 'Full-Stack Development' 'DevOps' 'Cloud Computing' 'Computer Vision'\n",
      " 'Quantum Computing' 'Data Science']\n"
     ]
    }
   ],
   "source": [
    "unique_goals = df['Career Goal'].unique()\n",
    "print(f\"Unique Career Goals: {unique_goals}\")"
   ]
  },
  {
   "cell_type": "code",
   "execution_count": 6,
   "id": "a19dca84-775c-4634-af09-c3c21ec7ec8d",
   "metadata": {},
   "outputs": [
    {
     "name": "stdout",
     "output_type": "stream",
     "text": [
      "Unique Learning Styles: ['Visual' 'Reading/Writing' 'Collaborative' 'Hands-on']\n"
     ]
    }
   ],
   "source": [
    "unique_learning_styles = df['Preferred Learning Style'].unique()\n",
    "print(f\"Unique Learning Styles: {unique_learning_styles}\")"
   ]
  },
  {
   "cell_type": "code",
   "execution_count": 7,
   "id": "0d59a773-ca58-43c5-b45b-8829a6a7e9ea",
   "metadata": {},
   "outputs": [
    {
     "name": "stdout",
     "output_type": "stream",
     "text": [
      "Area of Interest\n",
      "AR/VR Development              1073\n",
      "Business Intelligence          1040\n",
      "Natural Language Processing    1032\n",
      "Quantum Computing              1028\n",
      "IoT Development                1023\n",
      "Embedded Systems               1020\n",
      "Machine Learning               1019\n",
      "Web Development                1017\n",
      "Data Engineering               1014\n",
      "E-Commerce Development         1010\n",
      "Data Science                   1010\n",
      "Software Testing               1010\n",
      "App Development                1008\n",
      "Cloud Computing                1003\n",
      "Blockchain                     1002\n",
      "Cybersecurity                   995\n",
      "Big Data Analytics              990\n",
      "Artificial Intelligence         988\n",
      "Game Development                984\n",
      "Computer Vision                 983\n",
      "UI/UX Design                    981\n",
      "Digital Marketing               980\n",
      "DevOps                          946\n",
      "Networking                      944\n",
      "Full-Stack Development          900\n",
      "Name: count, dtype: int64\n",
      "Career Goal\n",
      "DevOps                         1047\n",
      "Digital Marketing              1045\n",
      "Embedded Systems               1035\n",
      "Web Development                1020\n",
      "Big Data Analytics             1017\n",
      "Data Engineering               1016\n",
      "IoT Development                1012\n",
      "Networking                     1011\n",
      "App Development                1011\n",
      "Cybersecurity                  1007\n",
      "E-Commerce Development         1006\n",
      "UI/UX Design                   1006\n",
      "Game Development               1006\n",
      "Quantum Computing              1005\n",
      "Full-Stack Development         1004\n",
      "Cloud Computing                 998\n",
      "Machine Learning                995\n",
      "Data Science                    992\n",
      "Computer Vision                 985\n",
      "Blockchain                      976\n",
      "Business Intelligence           971\n",
      "Artificial Intelligence         970\n",
      "Software Testing                969\n",
      "AR/VR Development               955\n",
      "Natural Language Processing     941\n",
      "Name: count, dtype: int64\n",
      "Preferred Learning Style\n",
      "Reading/Writing    6410\n",
      "Collaborative      6251\n",
      "Visual             6183\n",
      "Hands-on           6156\n",
      "Name: count, dtype: int64\n"
     ]
    }
   ],
   "source": [
    "print(df['Area of Interest'].value_counts())\n",
    "print(df['Career Goal'].value_counts())\n",
    "print(df['Preferred Learning Style'].value_counts())"
   ]
  },
  {
   "cell_type": "markdown",
   "id": "05d8a6c3-2595-4323-a858-819b8128dc5d",
   "metadata": {},
   "source": [
    "4. Split the Dataset"
   ]
  },
  {
   "cell_type": "code",
   "execution_count": 8,
   "id": "3195e164-b0a3-4bb5-a775-4f052a707dd3",
   "metadata": {},
   "outputs": [],
   "source": [
    "# Split the dataset into training and testing sets\n",
    "X_train, X_test, y_train, y_test = train_test_split(X, y, test_size=0.2, random_state=42)"
   ]
  },
  {
   "cell_type": "markdown",
   "id": "235cc191-d496-4f9c-bb1e-d36f3bd24d13",
   "metadata": {},
   "source": [
    "5. Train and Evaluate Models\n",
    "- Model 1: Logistic Regression"
   ]
  },
  {
   "cell_type": "code",
   "execution_count": 9,
   "id": "d3bfc3d6-dd06-4ae6-9ba6-4eee807fb67c",
   "metadata": {},
   "outputs": [
    {
     "name": "stdout",
     "output_type": "stream",
     "text": [
      "Logistic Regression Accuracy: 1.00\n"
     ]
    }
   ],
   "source": [
    "logistic_model = LogisticRegression(max_iter=200)\n",
    "logistic_model.fit(X_train, y_train)\n",
    "\n",
    "# Make predictions and evaluate\n",
    "logistic_predictions = logistic_model.predict(X_test)\n",
    "logistic_accuracy = accuracy_score(y_test, logistic_predictions)\n",
    "print(f\"Logistic Regression Accuracy: {logistic_accuracy:.2f}\")\n"
   ]
  },
  {
   "cell_type": "markdown",
   "id": "eeaec949-2d7e-4afc-81ba-4f69f71139ef",
   "metadata": {},
   "source": [
    "Model 2: Random Forest"
   ]
  },
  {
   "cell_type": "code",
   "execution_count": 10,
   "id": "9ba1c1ed-871a-4bc8-a0ce-af049122883f",
   "metadata": {},
   "outputs": [
    {
     "name": "stdout",
     "output_type": "stream",
     "text": [
      "Random Forest Accuracy: 1.00\n"
     ]
    }
   ],
   "source": [
    "random_forest_model = RandomForestClassifier(n_estimators=100, random_state=42)\n",
    "random_forest_model.fit(X_train, y_train)\n",
    "\n",
    "# Make predictions and evaluate\n",
    "rf_predictions = random_forest_model.predict(X_test)\n",
    "rf_accuracy = accuracy_score(y_test, rf_predictions)\n",
    "print(f\"Random Forest Accuracy: {rf_accuracy:.2f}\")\n"
   ]
  },
  {
   "cell_type": "markdown",
   "id": "b3885945-c30b-45d3-a8ce-8842c1277fee",
   "metadata": {},
   "source": [
    "Model 3: Support Vector Machine (SVM)"
   ]
  },
  {
   "cell_type": "code",
   "execution_count": 11,
   "id": "3b82c3dc-0e1d-4206-8ff8-c970b83cf032",
   "metadata": {},
   "outputs": [
    {
     "name": "stdout",
     "output_type": "stream",
     "text": [
      "Support Vector Machine Accuracy: 1.00\n"
     ]
    }
   ],
   "source": [
    "svm_model = SVC(kernel='linear')\n",
    "svm_model.fit(X_train, y_train)\n",
    "\n",
    "# Make predictions and evaluate\n",
    "svm_predictions = svm_model.predict(X_test)\n",
    "svm_accuracy = accuracy_score(y_test, svm_predictions)\n",
    "print(f\"Support Vector Machine Accuracy: {svm_accuracy:.2f}\")\n"
   ]
  },
  {
   "cell_type": "markdown",
   "id": "8ccf59f8-bde8-4f96-bf14-8a790dc6e081",
   "metadata": {},
   "source": [
    "Model 4: K-Nearest Neighbors (KNN)"
   ]
  },
  {
   "cell_type": "code",
   "execution_count": 12,
   "id": "69a37a23-848d-4d0e-bf47-04f9410849a8",
   "metadata": {},
   "outputs": [
    {
     "name": "stdout",
     "output_type": "stream",
     "text": [
      "K-Nearest Neighbors Accuracy: 1.00\n"
     ]
    }
   ],
   "source": [
    "knn_model = KNeighborsClassifier(n_neighbors=5)\n",
    "knn_model.fit(X_train, y_train)\n",
    "\n",
    "# Make predictions and evaluate\n",
    "knn_predictions = knn_model.predict(X_test)\n",
    "knn_accuracy = accuracy_score(y_test, knn_predictions)\n",
    "print(f\"K-Nearest Neighbors Accuracy: {knn_accuracy:.2f}\")\n"
   ]
  },
  {
   "cell_type": "markdown",
   "id": "942245de-dae2-4f6f-ac4b-43b9bda6480a",
   "metadata": {},
   "source": [
    "6. Save the Best Model"
   ]
  },
  {
   "cell_type": "code",
   "execution_count": 13,
   "id": "cfc8ecc8-30c9-4230-9b4f-846984650e1b",
   "metadata": {},
   "outputs": [
    {
     "name": "stdout",
     "output_type": "stream",
     "text": [
      "Best model 'Logistic Regression' saved successfully.\n"
     ]
    }
   ],
   "source": [
    "# Compare accuracies and save the best model\n",
    "accuracies = {\n",
    "    'Logistic Regression': logistic_accuracy,\n",
    "    'Random Forest': rf_accuracy,\n",
    "    'SVM': svm_accuracy,\n",
    "    'KNN': knn_accuracy\n",
    "}\n",
    "\n",
    "best_model_name = max(accuracies, key=accuracies.get)\n",
    "best_model = {\n",
    "    'Logistic Regression': logistic_model,\n",
    "    'Random Forest': random_forest_model,\n",
    "    'SVM': svm_model,\n",
    "    'KNN': knn_model\n",
    "}[best_model_name]\n",
    "\n",
    "# Save the best model\n",
    "joblib.dump(best_model, f\"best_course_recommendation_model_{best_model_name}.joblib\")\n",
    "print(f\"Best model '{best_model_name}' saved successfully.\")"
   ]
  },
  {
   "cell_type": "code",
   "execution_count": 14,
   "id": "73a109e5-3a82-41f9-8777-74ebacc48cd6",
   "metadata": {},
   "outputs": [
    {
     "name": "stdout",
     "output_type": "stream",
     "text": [
      "Label encoder saved successfully.\n",
      "Feature columns saved successfully.\n"
     ]
    }
   ],
   "source": [
    "# Save the label encoder to use during predictions\n",
    "joblib.dump(label_encoder, 'label_encoder.joblib')\n",
    "print(\"Label encoder saved successfully.\")\n",
    "\n",
    "# Save the feature columns for proper alignment during prediction\n",
    "joblib.dump(X.columns, 'feature_columns.joblib')\n",
    "print(\"Feature columns saved successfully.\")\n"
   ]
  }
 ],
 "metadata": {
  "kernelspec": {
   "display_name": "Python 3 (ipykernel)",
   "language": "python",
   "name": "python3"
  },
  "language_info": {
   "codemirror_mode": {
    "name": "ipython",
    "version": 3
   },
   "file_extension": ".py",
   "mimetype": "text/x-python",
   "name": "python",
   "nbconvert_exporter": "python",
   "pygments_lexer": "ipython3",
   "version": "3.11.10"
  }
 },
 "nbformat": 4,
 "nbformat_minor": 5
}
